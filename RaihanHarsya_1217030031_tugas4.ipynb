{
  "nbformat": 4,
  "nbformat_minor": 0,
  "metadata": {
    "colab": {
      "provenance": []
    },
    "kernelspec": {
      "name": "python3",
      "display_name": "Python 3"
    },
    "language_info": {
      "name": "python"
    }
  },
  "cells": [
    {
      "cell_type": "markdown",
      "source": [
        "1. Tentukan determinan matriks berikut:\n",
        "\n",
        "$$\\displaystyle A = \\left( \\begin{array}{cc}\n",
        "1 & 2 \\\\\n",
        "3 & 4\n",
        "\\end{array}\n",
        "\\right)\n",
        "$$"
      ],
      "metadata": {
        "id": "2U9gh6y7wbAq"
      }
    },
    {
      "cell_type": "code",
      "source": [
        "import numpy as np\n",
        "from numpy.linalg import \\\n",
        "              matrix_rank\n",
        "\n",
        "A = np.array([[1,2],[3,4]])\n",
        "\n",
        "print('Rank:\\n', matrix_rank(A))\n",
        "y = np.array([[1], [2],])\n",
        "A_y = np.concatenate((A, y), axis = 1)\n",
        "print('Augmented matrix:\\n', A_y)"
      ],
      "metadata": {
        "colab": {
          "base_uri": "https://localhost:8080/"
        },
        "id": "YPh1atydwhrg",
        "outputId": "f90871c5-4989-4d4f-d24c-16ea3605bf58"
      },
      "execution_count": 5,
      "outputs": [
        {
          "output_type": "stream",
          "name": "stdout",
          "text": [
            "Rank:\n",
            " 2\n",
            "Augmented matrix:\n",
            " [[1 2 1]\n",
            " [3 4 2]]\n"
          ]
        }
      ]
    },
    {
      "cell_type": "markdown",
      "source": [
        "2. Tentukan invers Matriks Berikut:\n",
        "\n",
        "$$\\displaystyle B = \\left( \\begin{array}{cc}\n",
        "10 & -22 \\\\\n",
        "3 & 45\n",
        "\\end{array}\n",
        "\\right)\n",
        "$$"
      ],
      "metadata": {
        "id": "f15S5btY0R3h"
      }
    },
    {
      "cell_type": "code",
      "source": [
        "import numpy as np\n",
        "\n",
        "# Membuat matriks 2x2\n",
        "M = np.array([[10, -22], [3, 45]])\n",
        "\n",
        "# Menghitung invers matriks\n",
        "inverse_of_M = np.linalg.inv(M)\n",
        "\n",
        "print(inverse_of_M)"
      ],
      "metadata": {
        "colab": {
          "base_uri": "https://localhost:8080/"
        },
        "id": "HvyylXm80To_",
        "outputId": "fba67805-4a18-4ba8-f169-648ef01b9f1f"
      },
      "execution_count": 6,
      "outputs": [
        {
          "output_type": "stream",
          "name": "stdout",
          "text": [
            "[[ 0.0872093   0.04263566]\n",
            " [-0.00581395  0.01937984]]\n"
          ]
        }
      ]
    },
    {
      "cell_type": "markdown",
      "source": [
        "3. Tentukan apakah matriks berikut berkondisi buruk:\n",
        "$$\\displaystyle C = \\left( \\begin{array}{cc}\n",
        "1 & 10^{-10} \\\\\n",
        "10^{-10} & 1\n",
        "\\end{array}\n",
        "\\right)\n",
        "$$\n",
        "\n"
      ],
      "metadata": {
        "id": "ugNfUn-P0_-r"
      }
    },
    {
      "cell_type": "code",
      "source": [
        "import numpy as np\n",
        "from numpy.linalg import \\\n",
        "              cond\n",
        "\n",
        "A = np.array([[1,10^-10],[10^-10,1]])\n",
        "print('Condition number:\\n', cond(A))\n"
      ],
      "metadata": {
        "colab": {
          "base_uri": "https://localhost:8080/"
        },
        "id": "NH8-_8UV2iw6",
        "outputId": "5dfe24af-4c8d-4498-daa8-69e70a95124d"
      },
      "execution_count": 10,
      "outputs": [
        {
          "output_type": "stream",
          "name": "stdout",
          "text": [
            "Condition number:\n",
            " 1.6666666666666667\n"
          ]
        }
      ]
    },
    {
      "cell_type": "markdown",
      "source": [
        "4. Tentukan apakah sistem persamaan linier berikut memiliki solusi. Jika ada, bagaimana solusinya?\n",
        "\n",
        "$$\\displaystyle A = \\left( \\begin{array}{cc}\n",
        "1 & 2 \\\\\n",
        "3 & 4\n",
        "\\end{array}\n",
        "\\right) $$\n",
        "\n",
        "\n",
        "$$\\displaystyle\n",
        "b =  \\left( \\begin{array}{cc}\n",
        "5 & 6\n",
        "\\end{array}\n",
        "\\right) \\\\\n",
        "$$"
      ],
      "metadata": {
        "id": "hmwIAGla3MRf"
      }
    },
    {
      "cell_type": "code",
      "source": [
        "from numpy.linalg import \\\n",
        "              matrix_rank\n",
        "A = np.array([[1,2],\n",
        "              [3,4]])\n",
        "print('Rank:\\n', matrix_rank(A))\n",
        "b = np.array([[5], [6]])\n",
        "A_b = np.concatenate((A, b), axis = 1)\n",
        "print('Augmented matrix:\\n', A_b)"
      ],
      "metadata": {
        "colab": {
          "base_uri": "https://localhost:8080/"
        },
        "id": "suZFMRGy3PYJ",
        "outputId": "9c35f111-4f4c-4a1e-8bec-55c167dec590"
      },
      "execution_count": 11,
      "outputs": [
        {
          "output_type": "stream",
          "name": "stdout",
          "text": [
            "Rank:\n",
            " 2\n",
            "Augmented matrix:\n",
            " [[1 2 5]\n",
            " [3 4 6]]\n"
          ]
        }
      ]
    },
    {
      "cell_type": "markdown",
      "source": [
        "Tentukan dimensi ruang nol matriks berikut:\n",
        "\n",
        "\n",
        "$$\\displaystyle\n",
        "C =\n",
        "\\left(\n",
        "\\begin{array}{ccc}\n",
        "1 & 2 & 3 \\\\\n",
        "4 & 5 & 6 \\\\\n",
        "7 & 8 & 9\n",
        "\\end{array}\n",
        "\\right)\n",
        "$$"
      ],
      "metadata": {
        "id": "i0QZAhS731_d"
      }
    },
    {
      "cell_type": "code",
      "source": [
        "# Tentukan matriks Anda (contoh matriks 3x3)\n",
        "A = np.array([[1, 2, 3],\n",
        "                  [4, 5, 6],\n",
        "                  [7, 8, 9]])\n",
        "\n",
        "# Hitung peringkat matriks\n",
        "rank = np.linalg.matrix_rank(A)\n",
        "\n",
        "# Hitung dimensi ruang nol\n",
        "num_columns = A.shape[1]\n",
        "nullity = num_columns - rank\n",
        "\n",
        "# Cetak hasil\n",
        "print(\"Matriks:\")\n",
        "print(A)\n",
        "print(\"Peringkat Matriks:\", rank)\n",
        "print(\"Dimensi Ruang Nol:\", nullity)"
      ],
      "metadata": {
        "colab": {
          "base_uri": "https://localhost:8080/"
        },
        "id": "ZonynRtq4BvR",
        "outputId": "8075848c-f13c-41e4-b867-e111a78d2528"
      },
      "execution_count": 12,
      "outputs": [
        {
          "output_type": "stream",
          "name": "stdout",
          "text": [
            "Matriks:\n",
            "[[1 2 3]\n",
            " [4 5 6]\n",
            " [7 8 9]]\n",
            "Peringkat Matriks: 2\n",
            "Dimensi Ruang Nol: 1\n"
          ]
        }
      ]
    }
  ]
}